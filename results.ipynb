{
 "cells": [
  {
   "cell_type": "code",
   "execution_count": 84,
   "id": "fea70990",
   "metadata": {},
   "outputs": [
    {
     "data": {
      "text/html": [
       "        <script type=\"text/javascript\">\n",
       "        window.PlotlyConfig = {MathJaxConfig: 'local'};\n",
       "        if (window.MathJax && window.MathJax.Hub && window.MathJax.Hub.Config) {window.MathJax.Hub.Config({SVG: {font: \"STIX-Web\"}});}\n",
       "        </script>\n",
       "        <script type=\"module\">import \"https://cdn.plot.ly/plotly-3.1.0.min\"</script>\n",
       "        "
      ]
     },
     "metadata": {},
     "output_type": "display_data"
    },
    {
     "data": {
      "text/html": [
       "        <script type=\"text/javascript\">\n",
       "        window.PlotlyConfig = {MathJaxConfig: 'local'};\n",
       "        if (window.MathJax && window.MathJax.Hub && window.MathJax.Hub.Config) {window.MathJax.Hub.Config({SVG: {font: \"STIX-Web\"}});}\n",
       "        </script>\n",
       "        <script type=\"module\">import \"https://cdn.plot.ly/plotly-3.1.0.min\"</script>\n",
       "        "
      ]
     },
     "metadata": {},
     "output_type": "display_data"
    }
   ],
   "source": [
    "# analise_dados.py\n",
    "\n",
    "import chart_studio.plotly as py\n",
    "import plotly.express as px\n",
    "%matplotlib inline\n",
    "\n",
    "from plotly.offline import download_plotlyjs, init_notebook_mode, plot, iplot\n",
    "import cufflinks as cf\n",
    "init_notebook_mode(connected=True)\n",
    "cf.go_offline()\n",
    "import plotly.io as pio\n",
    "pio.renderers.default = \"vscode\"\n",
    "\n",
    "\n",
    "import matplotlib.pyplot as plt\n",
    "import plotly.graph_objects as go\n",
    "import warnings\n",
    "\n",
    "# Importa todas as funções do arquivo funcoes_analise.py\n",
    "from funcoes_analise import *\n",
    "\n",
    "# Suprime avisos para manter a saída limpa\n",
    "warnings.filterwarnings('ignore')"
   ]
  },
  {
   "cell_type": "code",
   "execution_count": 85,
   "id": "c6214c54",
   "metadata": {},
   "outputs": [
    {
     "name": "stdout",
     "output_type": "stream",
     "text": [
      ">>> Iniciando Análise de Dados Medidos <<<\n",
      "\n",
      "--- Dados do Térreo Processados ---\n",
      "   distancia     Cp  andar     pl\n",
      "0          1 -22.77      0  42.77\n",
      "1          2 -29.06      0  49.06\n",
      "2          3 -30.70      0  50.70\n",
      "3          4 -34.75      0  54.75\n",
      "4          5 -34.74      0  54.74\n",
      "\n",
      "--- Dados do 1º Andar Processados ---\n",
      "   distancia     Cp  andar     pl\n",
      "0   3.498128 -53.64      1  73.64\n",
      "1   4.151735 -50.12      1  70.12\n",
      "2   4.923099 -42.56      1  62.56\n",
      "3   5.765145 -46.67      1  66.67\n",
      "4   6.651083 -50.95      1  70.95\n"
     ]
    }
   ],
   "source": [
    "# --- Seção 1: Carregamento e Preparação dos Dados Medidos ---\n",
    "print(\">>> Iniciando Análise de Dados Medidos <<<\\n\")\n",
    "\n",
    "# Carrega o arquivo de dados. \n",
    "# Certifique-se de que o caminho 'received_power_doisandares.txt' está correto.\n",
    "\n",
    "\n",
    "# Carrega e processa os dados medidos no térreo (andar == 0)\n",
    "# CORREÇÃO: Usado .loc[] com colchetes e .copy() para evitar avisos.\n",
    "df_real_terreo = pd.read_csv('received_power_terreo.txt')\n",
    "df_real_terreo['pl'] = 20 - df_real_terreo['Cp']  # Potência de transmissão de 20 dBm\n",
    "\n",
    "# Carrega e processa os dados medidos no 1º andar (andar == 1)\n",
    "# CORREÇÃO: Usado .loc[] com colchetes e .copy() para evitar avisos.\n",
    "df_real_1andar = pd.read_csv('received_power_1andar.txt')\n",
    "\n",
    "# A função calcdist precisa estar definida no seu código\n",
    "df_real_1andar['distancia'] = calcdist(df_real_1andar['distancia'] + 1) \n",
    "df_real_1andar['pl'] = 20 - df_real_1andar['Cp']\n",
    "\n",
    "# Verificação dos resultados\n",
    "print(\"--- Dados do Térreo Processados ---\")\n",
    "print(df_real_terreo.head())\n",
    "\n",
    "print(\"\\n--- Dados do 1º Andar Processados ---\")\n",
    "print(df_real_1andar.head())"
   ]
  },
  {
   "cell_type": "code",
   "execution_count": 86,
   "id": "43e8a608",
   "metadata": {},
   "outputs": [
    {
     "data": {
      "application/vnd.plotly.v1+json": {
       "config": {
        "plotlyServerURL": "https://plot.ly"
       },
       "data": [
        {
         "mode": "markers",
         "name": "Pr Térreo",
         "type": "scatter",
         "x": {
          "bdata": "AQIDBAUGBwgJCgsMDQ4PEBESExQVFhcYGRobHB0eHyAhIiMkJSYn",
          "dtype": "i1"
         },
         "y": {
          "bdata": "hetRuB7FNsCPwvUoXA89wDMzMzMzsz7AAAAAAABgQcAfhetRuF5BwNejcD0KF0TACtejcD3KQMDD9Shcj2JDwIXrUbgehUXAuB6F61E4RcB7FK5H4RpFwOxRuB6Fa0PA9ihcj8I1Q8CPwvUoXM9CwI/C9Shcr0HAj8L1KFzvQ8DD9Shcj6JCwNejcD0KN0PAH4XrUbheQ8CkcD0K14NCwKRwPQrX40LAXI/C9SjcQ8DXo3A9CpdDwIXrUbgexUPArkfhehSuQ8CkcD0K1+NEwMP1KFyPIkbA4XoUrkdBRsDXo3A9ChdHwDMzMzMzU0XAH4XrUbh+RMDsUbgehStEwJqZmZmZuUPAPQrXo3CdQ8AAAAAAAKBDwNejcD0KV0TApHA9CtcDRMDNzMzMzGxEwOF6FK5HYUTA",
          "dtype": "f8"
         }
        },
        {
         "mode": "lines+markers",
         "name": "Pr 1º Andar",
         "type": "scatter",
         "x": {
          "bdata": "MdPrkSr8C0CR+xtPYJsQQDy3mMNAsRNAmuT0PYIPF0BVPuhmtZoaQB+ZWlUUQx5Ax2Mt/pr/IEDHmvFgn+QiQH9JXU2xziRA2q6GEIq8JkDHWcvvRq0oQHcIeR5GoCpAzESrTBGVLEBhe+UYUIsuQAIcQ55fQTBAN4mlUpU9MUCby7O1NDoyQDezTn8tNzNAoI6AkXI0NEAf5as9+TE1QOvU67q4LzZAf3c7v6ktN0AqT5cxxis4QIq3Ue4IKjlAdZHXmG0oOkAYjoB38CY7QN6391aOJTxASm5xc0QkPUDqcFtmECM+QE41iRfwIT9AyXCO2HAQQEBBac3K8Y9AQKip2yt6D0FA77TDWQmPQUD2UmjEng5CQOwvIes5jkJAlfi2WtoNQ0A6BK6rf41DQA==",
          "dtype": "f8"
         },
         "y": {
          "bdata": "UrgehevRSsCPwvUoXA9JwEjhehSuR0XA9ihcj8JVR8CamZmZmXlJwArXo3A9KkjAMzMzMzMzTcAzMzMzM/NLwEjhehSuR0/ArkfhehSOTcDD9Shcj6JMwFK4HoXrkUzACtejcD2KTMDhehSuR+FJwJqZmZmZmUnASOF6FK6nScAUrkfhehRMwMP1KFyPAk3AZmZmZmamTsCamZmZmTlPwLgehetR2E/AzczMzMzsTsDhehSuR6FOwHE9CtejQFDAexSuR+EaTsB7FK5H4UpQwHE9Ctej0EzACtejcD3KS8AUrkfherRNwGZmZmZmJlDACtejcD2aUMCuR+F6FI5NwDMzMzMzM1DAmpmZmZmZUMAzMzMzMwNQwFK4HoXroVDAexSuR+EKUcCkcD0K12NRwA==",
          "dtype": "f8"
         }
        }
       ],
       "layout": {
        "template": {
         "data": {
          "bar": [
           {
            "error_x": {
             "color": "#2a3f5f"
            },
            "error_y": {
             "color": "#2a3f5f"
            },
            "marker": {
             "line": {
              "color": "#E5ECF6",
              "width": 0.5
             },
             "pattern": {
              "fillmode": "overlay",
              "size": 10,
              "solidity": 0.2
             }
            },
            "type": "bar"
           }
          ],
          "barpolar": [
           {
            "marker": {
             "line": {
              "color": "#E5ECF6",
              "width": 0.5
             },
             "pattern": {
              "fillmode": "overlay",
              "size": 10,
              "solidity": 0.2
             }
            },
            "type": "barpolar"
           }
          ],
          "carpet": [
           {
            "aaxis": {
             "endlinecolor": "#2a3f5f",
             "gridcolor": "white",
             "linecolor": "white",
             "minorgridcolor": "white",
             "startlinecolor": "#2a3f5f"
            },
            "baxis": {
             "endlinecolor": "#2a3f5f",
             "gridcolor": "white",
             "linecolor": "white",
             "minorgridcolor": "white",
             "startlinecolor": "#2a3f5f"
            },
            "type": "carpet"
           }
          ],
          "choropleth": [
           {
            "colorbar": {
             "outlinewidth": 0,
             "ticks": ""
            },
            "type": "choropleth"
           }
          ],
          "contour": [
           {
            "colorbar": {
             "outlinewidth": 0,
             "ticks": ""
            },
            "colorscale": [
             [
              0,
              "#0d0887"
             ],
             [
              0.1111111111111111,
              "#46039f"
             ],
             [
              0.2222222222222222,
              "#7201a8"
             ],
             [
              0.3333333333333333,
              "#9c179e"
             ],
             [
              0.4444444444444444,
              "#bd3786"
             ],
             [
              0.5555555555555556,
              "#d8576b"
             ],
             [
              0.6666666666666666,
              "#ed7953"
             ],
             [
              0.7777777777777778,
              "#fb9f3a"
             ],
             [
              0.8888888888888888,
              "#fdca26"
             ],
             [
              1,
              "#f0f921"
             ]
            ],
            "type": "contour"
           }
          ],
          "contourcarpet": [
           {
            "colorbar": {
             "outlinewidth": 0,
             "ticks": ""
            },
            "type": "contourcarpet"
           }
          ],
          "heatmap": [
           {
            "colorbar": {
             "outlinewidth": 0,
             "ticks": ""
            },
            "colorscale": [
             [
              0,
              "#0d0887"
             ],
             [
              0.1111111111111111,
              "#46039f"
             ],
             [
              0.2222222222222222,
              "#7201a8"
             ],
             [
              0.3333333333333333,
              "#9c179e"
             ],
             [
              0.4444444444444444,
              "#bd3786"
             ],
             [
              0.5555555555555556,
              "#d8576b"
             ],
             [
              0.6666666666666666,
              "#ed7953"
             ],
             [
              0.7777777777777778,
              "#fb9f3a"
             ],
             [
              0.8888888888888888,
              "#fdca26"
             ],
             [
              1,
              "#f0f921"
             ]
            ],
            "type": "heatmap"
           }
          ],
          "histogram": [
           {
            "marker": {
             "pattern": {
              "fillmode": "overlay",
              "size": 10,
              "solidity": 0.2
             }
            },
            "type": "histogram"
           }
          ],
          "histogram2d": [
           {
            "colorbar": {
             "outlinewidth": 0,
             "ticks": ""
            },
            "colorscale": [
             [
              0,
              "#0d0887"
             ],
             [
              0.1111111111111111,
              "#46039f"
             ],
             [
              0.2222222222222222,
              "#7201a8"
             ],
             [
              0.3333333333333333,
              "#9c179e"
             ],
             [
              0.4444444444444444,
              "#bd3786"
             ],
             [
              0.5555555555555556,
              "#d8576b"
             ],
             [
              0.6666666666666666,
              "#ed7953"
             ],
             [
              0.7777777777777778,
              "#fb9f3a"
             ],
             [
              0.8888888888888888,
              "#fdca26"
             ],
             [
              1,
              "#f0f921"
             ]
            ],
            "type": "histogram2d"
           }
          ],
          "histogram2dcontour": [
           {
            "colorbar": {
             "outlinewidth": 0,
             "ticks": ""
            },
            "colorscale": [
             [
              0,
              "#0d0887"
             ],
             [
              0.1111111111111111,
              "#46039f"
             ],
             [
              0.2222222222222222,
              "#7201a8"
             ],
             [
              0.3333333333333333,
              "#9c179e"
             ],
             [
              0.4444444444444444,
              "#bd3786"
             ],
             [
              0.5555555555555556,
              "#d8576b"
             ],
             [
              0.6666666666666666,
              "#ed7953"
             ],
             [
              0.7777777777777778,
              "#fb9f3a"
             ],
             [
              0.8888888888888888,
              "#fdca26"
             ],
             [
              1,
              "#f0f921"
             ]
            ],
            "type": "histogram2dcontour"
           }
          ],
          "mesh3d": [
           {
            "colorbar": {
             "outlinewidth": 0,
             "ticks": ""
            },
            "type": "mesh3d"
           }
          ],
          "parcoords": [
           {
            "line": {
             "colorbar": {
              "outlinewidth": 0,
              "ticks": ""
             }
            },
            "type": "parcoords"
           }
          ],
          "pie": [
           {
            "automargin": true,
            "type": "pie"
           }
          ],
          "scatter": [
           {
            "fillpattern": {
             "fillmode": "overlay",
             "size": 10,
             "solidity": 0.2
            },
            "type": "scatter"
           }
          ],
          "scatter3d": [
           {
            "line": {
             "colorbar": {
              "outlinewidth": 0,
              "ticks": ""
             }
            },
            "marker": {
             "colorbar": {
              "outlinewidth": 0,
              "ticks": ""
             }
            },
            "type": "scatter3d"
           }
          ],
          "scattercarpet": [
           {
            "marker": {
             "colorbar": {
              "outlinewidth": 0,
              "ticks": ""
             }
            },
            "type": "scattercarpet"
           }
          ],
          "scattergeo": [
           {
            "marker": {
             "colorbar": {
              "outlinewidth": 0,
              "ticks": ""
             }
            },
            "type": "scattergeo"
           }
          ],
          "scattergl": [
           {
            "marker": {
             "colorbar": {
              "outlinewidth": 0,
              "ticks": ""
             }
            },
            "type": "scattergl"
           }
          ],
          "scattermap": [
           {
            "marker": {
             "colorbar": {
              "outlinewidth": 0,
              "ticks": ""
             }
            },
            "type": "scattermap"
           }
          ],
          "scattermapbox": [
           {
            "marker": {
             "colorbar": {
              "outlinewidth": 0,
              "ticks": ""
             }
            },
            "type": "scattermapbox"
           }
          ],
          "scatterpolar": [
           {
            "marker": {
             "colorbar": {
              "outlinewidth": 0,
              "ticks": ""
             }
            },
            "type": "scatterpolar"
           }
          ],
          "scatterpolargl": [
           {
            "marker": {
             "colorbar": {
              "outlinewidth": 0,
              "ticks": ""
             }
            },
            "type": "scatterpolargl"
           }
          ],
          "scatterternary": [
           {
            "marker": {
             "colorbar": {
              "outlinewidth": 0,
              "ticks": ""
             }
            },
            "type": "scatterternary"
           }
          ],
          "surface": [
           {
            "colorbar": {
             "outlinewidth": 0,
             "ticks": ""
            },
            "colorscale": [
             [
              0,
              "#0d0887"
             ],
             [
              0.1111111111111111,
              "#46039f"
             ],
             [
              0.2222222222222222,
              "#7201a8"
             ],
             [
              0.3333333333333333,
              "#9c179e"
             ],
             [
              0.4444444444444444,
              "#bd3786"
             ],
             [
              0.5555555555555556,
              "#d8576b"
             ],
             [
              0.6666666666666666,
              "#ed7953"
             ],
             [
              0.7777777777777778,
              "#fb9f3a"
             ],
             [
              0.8888888888888888,
              "#fdca26"
             ],
             [
              1,
              "#f0f921"
             ]
            ],
            "type": "surface"
           }
          ],
          "table": [
           {
            "cells": {
             "fill": {
              "color": "#EBF0F8"
             },
             "line": {
              "color": "white"
             }
            },
            "header": {
             "fill": {
              "color": "#C8D4E3"
             },
             "line": {
              "color": "white"
             }
            },
            "type": "table"
           }
          ]
         },
         "layout": {
          "annotationdefaults": {
           "arrowcolor": "#2a3f5f",
           "arrowhead": 0,
           "arrowwidth": 1
          },
          "autotypenumbers": "strict",
          "coloraxis": {
           "colorbar": {
            "outlinewidth": 0,
            "ticks": ""
           }
          },
          "colorscale": {
           "diverging": [
            [
             0,
             "#8e0152"
            ],
            [
             0.1,
             "#c51b7d"
            ],
            [
             0.2,
             "#de77ae"
            ],
            [
             0.3,
             "#f1b6da"
            ],
            [
             0.4,
             "#fde0ef"
            ],
            [
             0.5,
             "#f7f7f7"
            ],
            [
             0.6,
             "#e6f5d0"
            ],
            [
             0.7,
             "#b8e186"
            ],
            [
             0.8,
             "#7fbc41"
            ],
            [
             0.9,
             "#4d9221"
            ],
            [
             1,
             "#276419"
            ]
           ],
           "sequential": [
            [
             0,
             "#0d0887"
            ],
            [
             0.1111111111111111,
             "#46039f"
            ],
            [
             0.2222222222222222,
             "#7201a8"
            ],
            [
             0.3333333333333333,
             "#9c179e"
            ],
            [
             0.4444444444444444,
             "#bd3786"
            ],
            [
             0.5555555555555556,
             "#d8576b"
            ],
            [
             0.6666666666666666,
             "#ed7953"
            ],
            [
             0.7777777777777778,
             "#fb9f3a"
            ],
            [
             0.8888888888888888,
             "#fdca26"
            ],
            [
             1,
             "#f0f921"
            ]
           ],
           "sequentialminus": [
            [
             0,
             "#0d0887"
            ],
            [
             0.1111111111111111,
             "#46039f"
            ],
            [
             0.2222222222222222,
             "#7201a8"
            ],
            [
             0.3333333333333333,
             "#9c179e"
            ],
            [
             0.4444444444444444,
             "#bd3786"
            ],
            [
             0.5555555555555556,
             "#d8576b"
            ],
            [
             0.6666666666666666,
             "#ed7953"
            ],
            [
             0.7777777777777778,
             "#fb9f3a"
            ],
            [
             0.8888888888888888,
             "#fdca26"
            ],
            [
             1,
             "#f0f921"
            ]
           ]
          },
          "colorway": [
           "#636efa",
           "#EF553B",
           "#00cc96",
           "#ab63fa",
           "#FFA15A",
           "#19d3f3",
           "#FF6692",
           "#B6E880",
           "#FF97FF",
           "#FECB52"
          ],
          "font": {
           "color": "#2a3f5f"
          },
          "geo": {
           "bgcolor": "white",
           "lakecolor": "white",
           "landcolor": "#E5ECF6",
           "showlakes": true,
           "showland": true,
           "subunitcolor": "white"
          },
          "hoverlabel": {
           "align": "left"
          },
          "hovermode": "closest",
          "mapbox": {
           "style": "light"
          },
          "paper_bgcolor": "white",
          "plot_bgcolor": "#E5ECF6",
          "polar": {
           "angularaxis": {
            "gridcolor": "white",
            "linecolor": "white",
            "ticks": ""
           },
           "bgcolor": "#E5ECF6",
           "radialaxis": {
            "gridcolor": "white",
            "linecolor": "white",
            "ticks": ""
           }
          },
          "scene": {
           "xaxis": {
            "backgroundcolor": "#E5ECF6",
            "gridcolor": "white",
            "gridwidth": 2,
            "linecolor": "white",
            "showbackground": true,
            "ticks": "",
            "zerolinecolor": "white"
           },
           "yaxis": {
            "backgroundcolor": "#E5ECF6",
            "gridcolor": "white",
            "gridwidth": 2,
            "linecolor": "white",
            "showbackground": true,
            "ticks": "",
            "zerolinecolor": "white"
           },
           "zaxis": {
            "backgroundcolor": "#E5ECF6",
            "gridcolor": "white",
            "gridwidth": 2,
            "linecolor": "white",
            "showbackground": true,
            "ticks": "",
            "zerolinecolor": "white"
           }
          },
          "shapedefaults": {
           "line": {
            "color": "#2a3f5f"
           }
          },
          "ternary": {
           "aaxis": {
            "gridcolor": "white",
            "linecolor": "white",
            "ticks": ""
           },
           "baxis": {
            "gridcolor": "white",
            "linecolor": "white",
            "ticks": ""
           },
           "bgcolor": "#E5ECF6",
           "caxis": {
            "gridcolor": "white",
            "linecolor": "white",
            "ticks": ""
           }
          },
          "title": {
           "x": 0.05
          },
          "xaxis": {
           "automargin": true,
           "gridcolor": "white",
           "linecolor": "white",
           "ticks": "",
           "title": {
            "standoff": 15
           },
           "zerolinecolor": "white",
           "zerolinewidth": 2
          },
          "yaxis": {
           "automargin": true,
           "gridcolor": "white",
           "linecolor": "white",
           "ticks": "",
           "title": {
            "standoff": 15
           },
           "zerolinecolor": "white",
           "zerolinewidth": 2
          }
         }
        },
        "title": {
         "text": "Perfil de Potência Recebida (Medido)"
        },
        "xaxis": {
         "title": {
          "text": "Distância (m)"
         }
        },
        "yaxis": {
         "title": {
          "text": "Potência Recebida (dBm)"
         }
        }
       }
      }
     },
     "metadata": {},
     "output_type": "display_data"
    }
   ],
   "source": [
    "# --- Seção 2: Visualização dos Dados Medidos ---\n",
    "\n",
    "# Gráfico 1: Perfil de Potência Recebida (Pr)\n",
    "fig_pr = go.Figure()\n",
    "fig_pr.add_trace(go.Scatter(x=df_real_terreo.distancia, y=df_real_terreo.Cp, name='Pr Térreo', mode='markers'))\n",
    "fig_pr.add_trace(go.Scatter(x=df_real_1andar.distancia, y=df_real_1andar.Cp, name='Pr 1º Andar', mode='lines+markers'))\n",
    "fig_pr.update_layout(title='Perfil de Potência Recebida (Medido)', xaxis_title='Distância (m)', yaxis_title='Potência Recebida (dBm)')\n",
    "fig_pr.show()\n"
   ]
  },
  {
   "cell_type": "code",
   "execution_count": 87,
   "id": "812c2542",
   "metadata": {},
   "outputs": [
    {
     "data": {
      "application/vnd.plotly.v1+json": {
       "config": {
        "plotlyServerURL": "https://plot.ly"
       },
       "data": [
        {
         "mode": "markers",
         "name": "Path Loss Térreo",
         "type": "scatter",
         "x": {
          "bdata": "AQIDBAUGBwgJCgsMDQ4PEBESExQVFhcYGRobHB0eHyAhIiMkJSYn",
          "dtype": "i1"
         },
         "y": {
          "bdata": "wvUoXI9iRUBI4XoUrodIQJqZmZmZWUlAAAAAAABgS0AfhetRuF5LQNejcD0KF05ACtejcD3KSkDD9Shcj2JNQIXrUbgehU9AuB6F61E4T0B7FK5H4RpPQOxRuB6Fa01A9ihcj8I1TUCPwvUoXM9MQI/C9Shcr0tAj8L1KFzvTUDD9Shcj6JMQNejcD0KN01AH4XrUbheTUCkcD0K14NMQKRwPQrX40xAXI/C9SjcTUDXo3A9CpdNQIXrUbgexU1ArkfhehSuTUCkcD0K1+NOQOJ6FK5HEVBAcD0K16MgUEDsUbgehYtQQDMzMzMzU09AH4XrUbh+TkDsUbgehStOQJqZmZmZuU1APQrXo3CdTUAAAAAAAKBNQNejcD0KV05ApHA9CtcDTkDNzMzMzGxOQOF6FK5HYU5A",
          "dtype": "f8"
         }
        },
        {
         "mode": "lines+markers",
         "name": "Path Loss 1º Andar",
         "type": "scatter",
         "x": {
          "bdata": "MdPrkSr8C0CR+xtPYJsQQDy3mMNAsRNAmuT0PYIPF0BVPuhmtZoaQB+ZWlUUQx5Ax2Mt/pr/IEDHmvFgn+QiQH9JXU2xziRA2q6GEIq8JkDHWcvvRq0oQHcIeR5GoCpAzESrTBGVLEBhe+UYUIsuQAIcQ55fQTBAN4mlUpU9MUCby7O1NDoyQDezTn8tNzNAoI6AkXI0NEAf5as9+TE1QOvU67q4LzZAf3c7v6ktN0AqT5cxxis4QIq3Ue4IKjlAdZHXmG0oOkAYjoB38CY7QN6391aOJTxASm5xc0QkPUDqcFtmECM+QE41iRfwIT9AyXCO2HAQQEBBac3K8Y9AQKip2yt6D0FA77TDWQmPQUD2UmjEng5CQOwvIes5jkJAlfi2WtoNQ0A6BK6rf41DQA==",
          "dtype": "f8"
         },
         "y": {
          "bdata": "KVyPwvVoUkBI4XoUrodRQEjhehSuR09AexSuR+GqUEDNzMzMzLxRQIXrUbgeFVFAmpmZmZmZU0CamZmZmflSQKRwPQrXo1RA16NwPQrHU0DiehSuR1FTQClcj8L1SFNAhetRuB5FU0BwPQrXo/BRQM3MzMzMzFFApHA9CtfTUUAK16NwPQpTQOJ6FK5HgVNAMzMzMzNTVEDNzMzMzJxUQFyPwvUo7FRAZmZmZmZ2VEBwPQrXo1BUQHE9CtejQFVAPgrXo3ANVEB7FK5H4UpVQLgehetRaFNAhetRuB7lUkAK16NwPdpTQGZmZmZmJlVACtejcD2aVUDXo3A9CsdTQDMzMzMzM1VAmpmZmZmZVUAzMzMzMwNVQFK4HoXroVVAexSuR+EKVkCkcD0K12NWQA==",
          "dtype": "f8"
         }
        }
       ],
       "layout": {
        "template": {
         "data": {
          "bar": [
           {
            "error_x": {
             "color": "#2a3f5f"
            },
            "error_y": {
             "color": "#2a3f5f"
            },
            "marker": {
             "line": {
              "color": "#E5ECF6",
              "width": 0.5
             },
             "pattern": {
              "fillmode": "overlay",
              "size": 10,
              "solidity": 0.2
             }
            },
            "type": "bar"
           }
          ],
          "barpolar": [
           {
            "marker": {
             "line": {
              "color": "#E5ECF6",
              "width": 0.5
             },
             "pattern": {
              "fillmode": "overlay",
              "size": 10,
              "solidity": 0.2
             }
            },
            "type": "barpolar"
           }
          ],
          "carpet": [
           {
            "aaxis": {
             "endlinecolor": "#2a3f5f",
             "gridcolor": "white",
             "linecolor": "white",
             "minorgridcolor": "white",
             "startlinecolor": "#2a3f5f"
            },
            "baxis": {
             "endlinecolor": "#2a3f5f",
             "gridcolor": "white",
             "linecolor": "white",
             "minorgridcolor": "white",
             "startlinecolor": "#2a3f5f"
            },
            "type": "carpet"
           }
          ],
          "choropleth": [
           {
            "colorbar": {
             "outlinewidth": 0,
             "ticks": ""
            },
            "type": "choropleth"
           }
          ],
          "contour": [
           {
            "colorbar": {
             "outlinewidth": 0,
             "ticks": ""
            },
            "colorscale": [
             [
              0,
              "#0d0887"
             ],
             [
              0.1111111111111111,
              "#46039f"
             ],
             [
              0.2222222222222222,
              "#7201a8"
             ],
             [
              0.3333333333333333,
              "#9c179e"
             ],
             [
              0.4444444444444444,
              "#bd3786"
             ],
             [
              0.5555555555555556,
              "#d8576b"
             ],
             [
              0.6666666666666666,
              "#ed7953"
             ],
             [
              0.7777777777777778,
              "#fb9f3a"
             ],
             [
              0.8888888888888888,
              "#fdca26"
             ],
             [
              1,
              "#f0f921"
             ]
            ],
            "type": "contour"
           }
          ],
          "contourcarpet": [
           {
            "colorbar": {
             "outlinewidth": 0,
             "ticks": ""
            },
            "type": "contourcarpet"
           }
          ],
          "heatmap": [
           {
            "colorbar": {
             "outlinewidth": 0,
             "ticks": ""
            },
            "colorscale": [
             [
              0,
              "#0d0887"
             ],
             [
              0.1111111111111111,
              "#46039f"
             ],
             [
              0.2222222222222222,
              "#7201a8"
             ],
             [
              0.3333333333333333,
              "#9c179e"
             ],
             [
              0.4444444444444444,
              "#bd3786"
             ],
             [
              0.5555555555555556,
              "#d8576b"
             ],
             [
              0.6666666666666666,
              "#ed7953"
             ],
             [
              0.7777777777777778,
              "#fb9f3a"
             ],
             [
              0.8888888888888888,
              "#fdca26"
             ],
             [
              1,
              "#f0f921"
             ]
            ],
            "type": "heatmap"
           }
          ],
          "histogram": [
           {
            "marker": {
             "pattern": {
              "fillmode": "overlay",
              "size": 10,
              "solidity": 0.2
             }
            },
            "type": "histogram"
           }
          ],
          "histogram2d": [
           {
            "colorbar": {
             "outlinewidth": 0,
             "ticks": ""
            },
            "colorscale": [
             [
              0,
              "#0d0887"
             ],
             [
              0.1111111111111111,
              "#46039f"
             ],
             [
              0.2222222222222222,
              "#7201a8"
             ],
             [
              0.3333333333333333,
              "#9c179e"
             ],
             [
              0.4444444444444444,
              "#bd3786"
             ],
             [
              0.5555555555555556,
              "#d8576b"
             ],
             [
              0.6666666666666666,
              "#ed7953"
             ],
             [
              0.7777777777777778,
              "#fb9f3a"
             ],
             [
              0.8888888888888888,
              "#fdca26"
             ],
             [
              1,
              "#f0f921"
             ]
            ],
            "type": "histogram2d"
           }
          ],
          "histogram2dcontour": [
           {
            "colorbar": {
             "outlinewidth": 0,
             "ticks": ""
            },
            "colorscale": [
             [
              0,
              "#0d0887"
             ],
             [
              0.1111111111111111,
              "#46039f"
             ],
             [
              0.2222222222222222,
              "#7201a8"
             ],
             [
              0.3333333333333333,
              "#9c179e"
             ],
             [
              0.4444444444444444,
              "#bd3786"
             ],
             [
              0.5555555555555556,
              "#d8576b"
             ],
             [
              0.6666666666666666,
              "#ed7953"
             ],
             [
              0.7777777777777778,
              "#fb9f3a"
             ],
             [
              0.8888888888888888,
              "#fdca26"
             ],
             [
              1,
              "#f0f921"
             ]
            ],
            "type": "histogram2dcontour"
           }
          ],
          "mesh3d": [
           {
            "colorbar": {
             "outlinewidth": 0,
             "ticks": ""
            },
            "type": "mesh3d"
           }
          ],
          "parcoords": [
           {
            "line": {
             "colorbar": {
              "outlinewidth": 0,
              "ticks": ""
             }
            },
            "type": "parcoords"
           }
          ],
          "pie": [
           {
            "automargin": true,
            "type": "pie"
           }
          ],
          "scatter": [
           {
            "fillpattern": {
             "fillmode": "overlay",
             "size": 10,
             "solidity": 0.2
            },
            "type": "scatter"
           }
          ],
          "scatter3d": [
           {
            "line": {
             "colorbar": {
              "outlinewidth": 0,
              "ticks": ""
             }
            },
            "marker": {
             "colorbar": {
              "outlinewidth": 0,
              "ticks": ""
             }
            },
            "type": "scatter3d"
           }
          ],
          "scattercarpet": [
           {
            "marker": {
             "colorbar": {
              "outlinewidth": 0,
              "ticks": ""
             }
            },
            "type": "scattercarpet"
           }
          ],
          "scattergeo": [
           {
            "marker": {
             "colorbar": {
              "outlinewidth": 0,
              "ticks": ""
             }
            },
            "type": "scattergeo"
           }
          ],
          "scattergl": [
           {
            "marker": {
             "colorbar": {
              "outlinewidth": 0,
              "ticks": ""
             }
            },
            "type": "scattergl"
           }
          ],
          "scattermap": [
           {
            "marker": {
             "colorbar": {
              "outlinewidth": 0,
              "ticks": ""
             }
            },
            "type": "scattermap"
           }
          ],
          "scattermapbox": [
           {
            "marker": {
             "colorbar": {
              "outlinewidth": 0,
              "ticks": ""
             }
            },
            "type": "scattermapbox"
           }
          ],
          "scatterpolar": [
           {
            "marker": {
             "colorbar": {
              "outlinewidth": 0,
              "ticks": ""
             }
            },
            "type": "scatterpolar"
           }
          ],
          "scatterpolargl": [
           {
            "marker": {
             "colorbar": {
              "outlinewidth": 0,
              "ticks": ""
             }
            },
            "type": "scatterpolargl"
           }
          ],
          "scatterternary": [
           {
            "marker": {
             "colorbar": {
              "outlinewidth": 0,
              "ticks": ""
             }
            },
            "type": "scatterternary"
           }
          ],
          "surface": [
           {
            "colorbar": {
             "outlinewidth": 0,
             "ticks": ""
            },
            "colorscale": [
             [
              0,
              "#0d0887"
             ],
             [
              0.1111111111111111,
              "#46039f"
             ],
             [
              0.2222222222222222,
              "#7201a8"
             ],
             [
              0.3333333333333333,
              "#9c179e"
             ],
             [
              0.4444444444444444,
              "#bd3786"
             ],
             [
              0.5555555555555556,
              "#d8576b"
             ],
             [
              0.6666666666666666,
              "#ed7953"
             ],
             [
              0.7777777777777778,
              "#fb9f3a"
             ],
             [
              0.8888888888888888,
              "#fdca26"
             ],
             [
              1,
              "#f0f921"
             ]
            ],
            "type": "surface"
           }
          ],
          "table": [
           {
            "cells": {
             "fill": {
              "color": "#EBF0F8"
             },
             "line": {
              "color": "white"
             }
            },
            "header": {
             "fill": {
              "color": "#C8D4E3"
             },
             "line": {
              "color": "white"
             }
            },
            "type": "table"
           }
          ]
         },
         "layout": {
          "annotationdefaults": {
           "arrowcolor": "#2a3f5f",
           "arrowhead": 0,
           "arrowwidth": 1
          },
          "autotypenumbers": "strict",
          "coloraxis": {
           "colorbar": {
            "outlinewidth": 0,
            "ticks": ""
           }
          },
          "colorscale": {
           "diverging": [
            [
             0,
             "#8e0152"
            ],
            [
             0.1,
             "#c51b7d"
            ],
            [
             0.2,
             "#de77ae"
            ],
            [
             0.3,
             "#f1b6da"
            ],
            [
             0.4,
             "#fde0ef"
            ],
            [
             0.5,
             "#f7f7f7"
            ],
            [
             0.6,
             "#e6f5d0"
            ],
            [
             0.7,
             "#b8e186"
            ],
            [
             0.8,
             "#7fbc41"
            ],
            [
             0.9,
             "#4d9221"
            ],
            [
             1,
             "#276419"
            ]
           ],
           "sequential": [
            [
             0,
             "#0d0887"
            ],
            [
             0.1111111111111111,
             "#46039f"
            ],
            [
             0.2222222222222222,
             "#7201a8"
            ],
            [
             0.3333333333333333,
             "#9c179e"
            ],
            [
             0.4444444444444444,
             "#bd3786"
            ],
            [
             0.5555555555555556,
             "#d8576b"
            ],
            [
             0.6666666666666666,
             "#ed7953"
            ],
            [
             0.7777777777777778,
             "#fb9f3a"
            ],
            [
             0.8888888888888888,
             "#fdca26"
            ],
            [
             1,
             "#f0f921"
            ]
           ],
           "sequentialminus": [
            [
             0,
             "#0d0887"
            ],
            [
             0.1111111111111111,
             "#46039f"
            ],
            [
             0.2222222222222222,
             "#7201a8"
            ],
            [
             0.3333333333333333,
             "#9c179e"
            ],
            [
             0.4444444444444444,
             "#bd3786"
            ],
            [
             0.5555555555555556,
             "#d8576b"
            ],
            [
             0.6666666666666666,
             "#ed7953"
            ],
            [
             0.7777777777777778,
             "#fb9f3a"
            ],
            [
             0.8888888888888888,
             "#fdca26"
            ],
            [
             1,
             "#f0f921"
            ]
           ]
          },
          "colorway": [
           "#636efa",
           "#EF553B",
           "#00cc96",
           "#ab63fa",
           "#FFA15A",
           "#19d3f3",
           "#FF6692",
           "#B6E880",
           "#FF97FF",
           "#FECB52"
          ],
          "font": {
           "color": "#2a3f5f"
          },
          "geo": {
           "bgcolor": "white",
           "lakecolor": "white",
           "landcolor": "#E5ECF6",
           "showlakes": true,
           "showland": true,
           "subunitcolor": "white"
          },
          "hoverlabel": {
           "align": "left"
          },
          "hovermode": "closest",
          "mapbox": {
           "style": "light"
          },
          "paper_bgcolor": "white",
          "plot_bgcolor": "#E5ECF6",
          "polar": {
           "angularaxis": {
            "gridcolor": "white",
            "linecolor": "white",
            "ticks": ""
           },
           "bgcolor": "#E5ECF6",
           "radialaxis": {
            "gridcolor": "white",
            "linecolor": "white",
            "ticks": ""
           }
          },
          "scene": {
           "xaxis": {
            "backgroundcolor": "#E5ECF6",
            "gridcolor": "white",
            "gridwidth": 2,
            "linecolor": "white",
            "showbackground": true,
            "ticks": "",
            "zerolinecolor": "white"
           },
           "yaxis": {
            "backgroundcolor": "#E5ECF6",
            "gridcolor": "white",
            "gridwidth": 2,
            "linecolor": "white",
            "showbackground": true,
            "ticks": "",
            "zerolinecolor": "white"
           },
           "zaxis": {
            "backgroundcolor": "#E5ECF6",
            "gridcolor": "white",
            "gridwidth": 2,
            "linecolor": "white",
            "showbackground": true,
            "ticks": "",
            "zerolinecolor": "white"
           }
          },
          "shapedefaults": {
           "line": {
            "color": "#2a3f5f"
           }
          },
          "ternary": {
           "aaxis": {
            "gridcolor": "white",
            "linecolor": "white",
            "ticks": ""
           },
           "baxis": {
            "gridcolor": "white",
            "linecolor": "white",
            "ticks": ""
           },
           "bgcolor": "#E5ECF6",
           "caxis": {
            "gridcolor": "white",
            "linecolor": "white",
            "ticks": ""
           }
          },
          "title": {
           "x": 0.05
          },
          "xaxis": {
           "automargin": true,
           "gridcolor": "white",
           "linecolor": "white",
           "ticks": "",
           "title": {
            "standoff": 15
           },
           "zerolinecolor": "white",
           "zerolinewidth": 2
          },
          "yaxis": {
           "automargin": true,
           "gridcolor": "white",
           "linecolor": "white",
           "ticks": "",
           "title": {
            "standoff": 15
           },
           "zerolinecolor": "white",
           "zerolinewidth": 2
          }
         }
        },
        "title": {
         "text": "Path Loss (Medido)"
        },
        "xaxis": {
         "title": {
          "text": "Distância (m)"
         }
        },
        "yaxis": {
         "title": {
          "text": "Path Loss (dB)"
         }
        }
       }
      }
     },
     "metadata": {},
     "output_type": "display_data"
    }
   ],
   "source": [
    "# Gráfico 2: Perda de Percurso (Path Loss)\n",
    "fig_pl = go.Figure()\n",
    "fig_pl.add_trace(go.Scatter(x=df_real_terreo.distancia, y=df_real_terreo['pl'], name='Path Loss Térreo', mode='markers'))\n",
    "fig_pl.add_trace(go.Scatter(x=df_real_1andar.distancia, y=df_real_1andar['pl'], name='Path Loss 1º Andar', mode='lines+markers'))\n",
    "fig_pl.update_layout(title='Path Loss (Medido)', xaxis_title='Distância (m)', yaxis_title='Path Loss (dB)')\n",
    "fig_pl.show()\n"
   ]
  },
  {
   "cell_type": "code",
   "execution_count": 88,
   "id": "9a89c624",
   "metadata": {},
   "outputs": [
    {
     "name": "stdout",
     "output_type": "stream",
     "text": [
      "\n",
      ">>> Iniciando Análise com Modelos Empíricos <<<\n",
      "\n",
      "--- Resultados para o Térreo ---\n",
      "--- Modelo Floating Intercept (FI) ---\n",
      "RMSE: 2.6902\n",
      "Alpha: 48.2405\n",
      "Beta: 0.8832\n",
      "Shadowing (Std Dev): 2.6902\n",
      "\n",
      "--- Modelo Close-In (CI) ---\n",
      "RMSE: 3.0684\n",
      "Path Loss Exponent (PLE): 1.2600\n",
      "Shadowing (Std Dev): 3.0363\n"
     ]
    },
    {
     "data": {
      "application/vnd.plotly.v1+json": {
       "config": {
        "plotlyServerURL": "https://plot.ly"
       },
       "data": [
        {
         "mode": "markers",
         "name": "Dados Medidos",
         "type": "scatter",
         "x": {
          "bdata": "AQIDBAUGBwgJCgsMDQ4PEBESExQVFhcYGRobHB0eHyAhIiMkJSYn",
          "dtype": "i1"
         },
         "y": {
          "bdata": "wvUoXI9iRUBI4XoUrodIQJqZmZmZWUlAAAAAAABgS0AfhetRuF5LQNejcD0KF05ACtejcD3KSkDD9Shcj2JNQIXrUbgehU9AuB6F61E4T0B7FK5H4RpPQOxRuB6Fa01A9ihcj8I1TUCPwvUoXM9MQI/C9Shcr0tAj8L1KFzvTUDD9Shcj6JMQNejcD0KN01AH4XrUbheTUCkcD0K14NMQKRwPQrX40xAXI/C9SjcTUDXo3A9CpdNQIXrUbgexU1ArkfhehSuTUCkcD0K1+NOQOJ6FK5HEVBAcD0K16MgUEDsUbgehYtQQDMzMzMzU09AH4XrUbh+TkDsUbgehStOQJqZmZmZuU1APQrXo3CdTUAAAAAAAKBNQNejcD0KV05ApHA9CtcDTkDNzMzMzGxOQOF6FK5HYU5A",
          "dtype": "f8"
         }
        },
        {
         "mode": "lines+markers",
         "name": "Modelo Float Intercept",
         "type": "scatter",
         "x": {
          "bdata": "AQIDBAUGBwgJCgsMDQ4PEBESExQVFhcYGRobHB0eHyAhIiMkJSYn",
          "dtype": "i1"
         },
         "y": {
          "bdata": "IAiTGckeSEBCe0/0F3NJQChOoDcpOkpAZe4Lz2bHSkD9EMzQ9DRLQErBXBJ4jktA7LwLpSbaS0CHYciptRtMQDCUrVWJVUxAIISIq0OJTEBgM8zRDrhMQG00Ge3G4kxAlJdHKxMKTUAOMMh/dS5NQAZX2e5UUE1AqtSEhARwTUDtwyAuyI1NQFIHajDYqU1ASyu5rWPETUBC90SGkt1NQPQCGcOG9U1AgqaIrF0MTkA+h6+iMCJOQI+n1ccVN05A2hkFiCBLTkC3CgQGYl5OQDjaunPpcE5AMaOEWsSCTkAHv83W/pNOQCjKlcmjpE5AprrSAb20TkDMR0FfU8ROQGh52e9u005AEDfdCBfiTkDJxURcUvBOQHV6Jgsn/k5AULmYtZoLT0BunnWIshhPQJzdVElzJU9A",
          "dtype": "f8"
         }
        },
        {
         "mode": "lines+markers",
         "name": "Modelo Close-In",
         "type": "scatter",
         "x": {
          "bdata": "AQIDBAUGBwgJCgsMDQ4PEBESExQVFhcYGRobHB0eHyAhIiMkJSYn",
          "dtype": "i1"
         },
         "y": {
          "bdata": "CYOubFypRUAIRqRB3Y5HQMUV9I/dqkhABwmaFl50SUCM27cnqhBKQMTY6WRekEpArnLYSVf8SkAGzI/r3llLQIGoObNerEtAi56t/Cr2S0A8va0j7ThMQMOb3znfdUxALdkowe+tTECtNc4e2OFMQEhu/UorEk1ABY+FwF8/TUCccgpo1mlNQIBrL4jfkU1AJL+BX763TUCKYaPRq9tNQGoFHm3Y/U1AOoCj+G0eTkBSru2nkD1OQMJe1Q5gW05ADzTB4vd3TkAsnB6WcJNOQD47f9bfrU5ArPjD81jHTkC5Yys17d9OQEcx8x+s905A0s1jsqMOT0AEUnuV4CRPQPhP80ZuOk9AmjUAPVdPT0Awy+EEpWNPQH8uJV1gd09A/5xNTJGKT0Aignc0P51PQOprbuRwr09A",
          "dtype": "f8"
         }
        }
       ],
       "layout": {
        "template": {
         "data": {
          "bar": [
           {
            "error_x": {
             "color": "#2a3f5f"
            },
            "error_y": {
             "color": "#2a3f5f"
            },
            "marker": {
             "line": {
              "color": "#E5ECF6",
              "width": 0.5
             },
             "pattern": {
              "fillmode": "overlay",
              "size": 10,
              "solidity": 0.2
             }
            },
            "type": "bar"
           }
          ],
          "barpolar": [
           {
            "marker": {
             "line": {
              "color": "#E5ECF6",
              "width": 0.5
             },
             "pattern": {
              "fillmode": "overlay",
              "size": 10,
              "solidity": 0.2
             }
            },
            "type": "barpolar"
           }
          ],
          "carpet": [
           {
            "aaxis": {
             "endlinecolor": "#2a3f5f",
             "gridcolor": "white",
             "linecolor": "white",
             "minorgridcolor": "white",
             "startlinecolor": "#2a3f5f"
            },
            "baxis": {
             "endlinecolor": "#2a3f5f",
             "gridcolor": "white",
             "linecolor": "white",
             "minorgridcolor": "white",
             "startlinecolor": "#2a3f5f"
            },
            "type": "carpet"
           }
          ],
          "choropleth": [
           {
            "colorbar": {
             "outlinewidth": 0,
             "ticks": ""
            },
            "type": "choropleth"
           }
          ],
          "contour": [
           {
            "colorbar": {
             "outlinewidth": 0,
             "ticks": ""
            },
            "colorscale": [
             [
              0,
              "#0d0887"
             ],
             [
              0.1111111111111111,
              "#46039f"
             ],
             [
              0.2222222222222222,
              "#7201a8"
             ],
             [
              0.3333333333333333,
              "#9c179e"
             ],
             [
              0.4444444444444444,
              "#bd3786"
             ],
             [
              0.5555555555555556,
              "#d8576b"
             ],
             [
              0.6666666666666666,
              "#ed7953"
             ],
             [
              0.7777777777777778,
              "#fb9f3a"
             ],
             [
              0.8888888888888888,
              "#fdca26"
             ],
             [
              1,
              "#f0f921"
             ]
            ],
            "type": "contour"
           }
          ],
          "contourcarpet": [
           {
            "colorbar": {
             "outlinewidth": 0,
             "ticks": ""
            },
            "type": "contourcarpet"
           }
          ],
          "heatmap": [
           {
            "colorbar": {
             "outlinewidth": 0,
             "ticks": ""
            },
            "colorscale": [
             [
              0,
              "#0d0887"
             ],
             [
              0.1111111111111111,
              "#46039f"
             ],
             [
              0.2222222222222222,
              "#7201a8"
             ],
             [
              0.3333333333333333,
              "#9c179e"
             ],
             [
              0.4444444444444444,
              "#bd3786"
             ],
             [
              0.5555555555555556,
              "#d8576b"
             ],
             [
              0.6666666666666666,
              "#ed7953"
             ],
             [
              0.7777777777777778,
              "#fb9f3a"
             ],
             [
              0.8888888888888888,
              "#fdca26"
             ],
             [
              1,
              "#f0f921"
             ]
            ],
            "type": "heatmap"
           }
          ],
          "histogram": [
           {
            "marker": {
             "pattern": {
              "fillmode": "overlay",
              "size": 10,
              "solidity": 0.2
             }
            },
            "type": "histogram"
           }
          ],
          "histogram2d": [
           {
            "colorbar": {
             "outlinewidth": 0,
             "ticks": ""
            },
            "colorscale": [
             [
              0,
              "#0d0887"
             ],
             [
              0.1111111111111111,
              "#46039f"
             ],
             [
              0.2222222222222222,
              "#7201a8"
             ],
             [
              0.3333333333333333,
              "#9c179e"
             ],
             [
              0.4444444444444444,
              "#bd3786"
             ],
             [
              0.5555555555555556,
              "#d8576b"
             ],
             [
              0.6666666666666666,
              "#ed7953"
             ],
             [
              0.7777777777777778,
              "#fb9f3a"
             ],
             [
              0.8888888888888888,
              "#fdca26"
             ],
             [
              1,
              "#f0f921"
             ]
            ],
            "type": "histogram2d"
           }
          ],
          "histogram2dcontour": [
           {
            "colorbar": {
             "outlinewidth": 0,
             "ticks": ""
            },
            "colorscale": [
             [
              0,
              "#0d0887"
             ],
             [
              0.1111111111111111,
              "#46039f"
             ],
             [
              0.2222222222222222,
              "#7201a8"
             ],
             [
              0.3333333333333333,
              "#9c179e"
             ],
             [
              0.4444444444444444,
              "#bd3786"
             ],
             [
              0.5555555555555556,
              "#d8576b"
             ],
             [
              0.6666666666666666,
              "#ed7953"
             ],
             [
              0.7777777777777778,
              "#fb9f3a"
             ],
             [
              0.8888888888888888,
              "#fdca26"
             ],
             [
              1,
              "#f0f921"
             ]
            ],
            "type": "histogram2dcontour"
           }
          ],
          "mesh3d": [
           {
            "colorbar": {
             "outlinewidth": 0,
             "ticks": ""
            },
            "type": "mesh3d"
           }
          ],
          "parcoords": [
           {
            "line": {
             "colorbar": {
              "outlinewidth": 0,
              "ticks": ""
             }
            },
            "type": "parcoords"
           }
          ],
          "pie": [
           {
            "automargin": true,
            "type": "pie"
           }
          ],
          "scatter": [
           {
            "fillpattern": {
             "fillmode": "overlay",
             "size": 10,
             "solidity": 0.2
            },
            "type": "scatter"
           }
          ],
          "scatter3d": [
           {
            "line": {
             "colorbar": {
              "outlinewidth": 0,
              "ticks": ""
             }
            },
            "marker": {
             "colorbar": {
              "outlinewidth": 0,
              "ticks": ""
             }
            },
            "type": "scatter3d"
           }
          ],
          "scattercarpet": [
           {
            "marker": {
             "colorbar": {
              "outlinewidth": 0,
              "ticks": ""
             }
            },
            "type": "scattercarpet"
           }
          ],
          "scattergeo": [
           {
            "marker": {
             "colorbar": {
              "outlinewidth": 0,
              "ticks": ""
             }
            },
            "type": "scattergeo"
           }
          ],
          "scattergl": [
           {
            "marker": {
             "colorbar": {
              "outlinewidth": 0,
              "ticks": ""
             }
            },
            "type": "scattergl"
           }
          ],
          "scattermap": [
           {
            "marker": {
             "colorbar": {
              "outlinewidth": 0,
              "ticks": ""
             }
            },
            "type": "scattermap"
           }
          ],
          "scattermapbox": [
           {
            "marker": {
             "colorbar": {
              "outlinewidth": 0,
              "ticks": ""
             }
            },
            "type": "scattermapbox"
           }
          ],
          "scatterpolar": [
           {
            "marker": {
             "colorbar": {
              "outlinewidth": 0,
              "ticks": ""
             }
            },
            "type": "scatterpolar"
           }
          ],
          "scatterpolargl": [
           {
            "marker": {
             "colorbar": {
              "outlinewidth": 0,
              "ticks": ""
             }
            },
            "type": "scatterpolargl"
           }
          ],
          "scatterternary": [
           {
            "marker": {
             "colorbar": {
              "outlinewidth": 0,
              "ticks": ""
             }
            },
            "type": "scatterternary"
           }
          ],
          "surface": [
           {
            "colorbar": {
             "outlinewidth": 0,
             "ticks": ""
            },
            "colorscale": [
             [
              0,
              "#0d0887"
             ],
             [
              0.1111111111111111,
              "#46039f"
             ],
             [
              0.2222222222222222,
              "#7201a8"
             ],
             [
              0.3333333333333333,
              "#9c179e"
             ],
             [
              0.4444444444444444,
              "#bd3786"
             ],
             [
              0.5555555555555556,
              "#d8576b"
             ],
             [
              0.6666666666666666,
              "#ed7953"
             ],
             [
              0.7777777777777778,
              "#fb9f3a"
             ],
             [
              0.8888888888888888,
              "#fdca26"
             ],
             [
              1,
              "#f0f921"
             ]
            ],
            "type": "surface"
           }
          ],
          "table": [
           {
            "cells": {
             "fill": {
              "color": "#EBF0F8"
             },
             "line": {
              "color": "white"
             }
            },
            "header": {
             "fill": {
              "color": "#C8D4E3"
             },
             "line": {
              "color": "white"
             }
            },
            "type": "table"
           }
          ]
         },
         "layout": {
          "annotationdefaults": {
           "arrowcolor": "#2a3f5f",
           "arrowhead": 0,
           "arrowwidth": 1
          },
          "autotypenumbers": "strict",
          "coloraxis": {
           "colorbar": {
            "outlinewidth": 0,
            "ticks": ""
           }
          },
          "colorscale": {
           "diverging": [
            [
             0,
             "#8e0152"
            ],
            [
             0.1,
             "#c51b7d"
            ],
            [
             0.2,
             "#de77ae"
            ],
            [
             0.3,
             "#f1b6da"
            ],
            [
             0.4,
             "#fde0ef"
            ],
            [
             0.5,
             "#f7f7f7"
            ],
            [
             0.6,
             "#e6f5d0"
            ],
            [
             0.7,
             "#b8e186"
            ],
            [
             0.8,
             "#7fbc41"
            ],
            [
             0.9,
             "#4d9221"
            ],
            [
             1,
             "#276419"
            ]
           ],
           "sequential": [
            [
             0,
             "#0d0887"
            ],
            [
             0.1111111111111111,
             "#46039f"
            ],
            [
             0.2222222222222222,
             "#7201a8"
            ],
            [
             0.3333333333333333,
             "#9c179e"
            ],
            [
             0.4444444444444444,
             "#bd3786"
            ],
            [
             0.5555555555555556,
             "#d8576b"
            ],
            [
             0.6666666666666666,
             "#ed7953"
            ],
            [
             0.7777777777777778,
             "#fb9f3a"
            ],
            [
             0.8888888888888888,
             "#fdca26"
            ],
            [
             1,
             "#f0f921"
            ]
           ],
           "sequentialminus": [
            [
             0,
             "#0d0887"
            ],
            [
             0.1111111111111111,
             "#46039f"
            ],
            [
             0.2222222222222222,
             "#7201a8"
            ],
            [
             0.3333333333333333,
             "#9c179e"
            ],
            [
             0.4444444444444444,
             "#bd3786"
            ],
            [
             0.5555555555555556,
             "#d8576b"
            ],
            [
             0.6666666666666666,
             "#ed7953"
            ],
            [
             0.7777777777777778,
             "#fb9f3a"
            ],
            [
             0.8888888888888888,
             "#fdca26"
            ],
            [
             1,
             "#f0f921"
            ]
           ]
          },
          "colorway": [
           "#636efa",
           "#EF553B",
           "#00cc96",
           "#ab63fa",
           "#FFA15A",
           "#19d3f3",
           "#FF6692",
           "#B6E880",
           "#FF97FF",
           "#FECB52"
          ],
          "font": {
           "color": "#2a3f5f"
          },
          "geo": {
           "bgcolor": "white",
           "lakecolor": "white",
           "landcolor": "#E5ECF6",
           "showlakes": true,
           "showland": true,
           "subunitcolor": "white"
          },
          "hoverlabel": {
           "align": "left"
          },
          "hovermode": "closest",
          "mapbox": {
           "style": "light"
          },
          "paper_bgcolor": "white",
          "plot_bgcolor": "#E5ECF6",
          "polar": {
           "angularaxis": {
            "gridcolor": "white",
            "linecolor": "white",
            "ticks": ""
           },
           "bgcolor": "#E5ECF6",
           "radialaxis": {
            "gridcolor": "white",
            "linecolor": "white",
            "ticks": ""
           }
          },
          "scene": {
           "xaxis": {
            "backgroundcolor": "#E5ECF6",
            "gridcolor": "white",
            "gridwidth": 2,
            "linecolor": "white",
            "showbackground": true,
            "ticks": "",
            "zerolinecolor": "white"
           },
           "yaxis": {
            "backgroundcolor": "#E5ECF6",
            "gridcolor": "white",
            "gridwidth": 2,
            "linecolor": "white",
            "showbackground": true,
            "ticks": "",
            "zerolinecolor": "white"
           },
           "zaxis": {
            "backgroundcolor": "#E5ECF6",
            "gridcolor": "white",
            "gridwidth": 2,
            "linecolor": "white",
            "showbackground": true,
            "ticks": "",
            "zerolinecolor": "white"
           }
          },
          "shapedefaults": {
           "line": {
            "color": "#2a3f5f"
           }
          },
          "ternary": {
           "aaxis": {
            "gridcolor": "white",
            "linecolor": "white",
            "ticks": ""
           },
           "baxis": {
            "gridcolor": "white",
            "linecolor": "white",
            "ticks": ""
           },
           "bgcolor": "#E5ECF6",
           "caxis": {
            "gridcolor": "white",
            "linecolor": "white",
            "ticks": ""
           }
          },
          "title": {
           "x": 0.05
          },
          "xaxis": {
           "automargin": true,
           "gridcolor": "white",
           "linecolor": "white",
           "ticks": "",
           "title": {
            "standoff": 15
           },
           "zerolinecolor": "white",
           "zerolinewidth": 2
          },
          "yaxis": {
           "automargin": true,
           "gridcolor": "white",
           "linecolor": "white",
           "ticks": "",
           "title": {
            "standoff": 15
           },
           "zerolinecolor": "white",
           "zerolinewidth": 2
          }
         }
        },
        "title": {
         "text": "Modelos de Path Loss vs. Medido (Térreo)"
        },
        "xaxis": {
         "title": {
          "text": "Distância (m)"
         }
        },
        "yaxis": {
         "title": {
          "text": "Path Loss (dB)"
         }
        }
       }
      }
     },
     "metadata": {},
     "output_type": "display_data"
    }
   ],
   "source": [
    "# --- Seção 3: Análise com Modelos Empíricos ---\n",
    "print(\"\\n>>> Iniciando Análise com Modelos Empíricos <<<\\n\")\n",
    "\n",
    "# Análise para o Térreo\n",
    "print(\"--- Resultados para o Térreo ---\")\n",
    "fi_terreo, _, _ = float_intercept(df_real_terreo[['distancia', 'Cp', 'pl']])\n",
    "ci_terreo, _ = close_in(df_real_terreo[['distancia', 'Cp', 'pl']])\n",
    "\n",
    "fig_modelos_terreo = go.Figure()\n",
    "fig_modelos_terreo.add_trace(go.Scatter(x=df_real_terreo.distancia, y=df_real_terreo['pl'], name='Dados Medidos', mode='markers'))\n",
    "fig_modelos_terreo.add_trace(go.Scatter(x=df_real_terreo.distancia, y=fi_terreo, name='Modelo Float Intercept', mode='lines+markers'))\n",
    "fig_modelos_terreo.add_trace(go.Scatter(x=df_real_terreo.distancia, y=ci_terreo, name='Modelo Close-In', mode='lines+markers'))\n",
    "fig_modelos_terreo.update_layout(title='Modelos de Path Loss vs. Medido (Térreo)', xaxis_title='Distância (m)', yaxis_title='Path Loss (dB)')\n",
    "fig_modelos_terreo.show()"
   ]
  },
  {
   "cell_type": "code",
   "execution_count": 89,
   "id": "200c5703",
   "metadata": {},
   "outputs": [
    {
     "name": "stdout",
     "output_type": "stream",
     "text": [
      "\n",
      "--- Resultados para o 1º Andar ---\n",
      "--- Modelo Floating Intercept (FI) ---\n",
      "RMSE: 3.9232\n",
      "Alpha: 57.4373\n",
      "Beta: 1.7167\n",
      "Shadowing (Std Dev): 3.9232\n",
      "\n",
      "--- Modelo Close-In (CI) ---\n",
      "RMSE: 5.0591\n",
      "Path Loss Exponent (PLE): 2.7968\n",
      "Shadowing (Std Dev): 5.0072\n"
     ]
    },
    {
     "data": {
      "application/vnd.plotly.v1+json": {
       "config": {
        "plotlyServerURL": "https://plot.ly"
       },
       "data": [
        {
         "mode": "markers",
         "name": "Dados Medidos",
         "type": "scatter",
         "x": {
          "bdata": "MdPrkSr8C0CR+xtPYJsQQDy3mMNAsRNAmuT0PYIPF0BVPuhmtZoaQB+ZWlUUQx5Ax2Mt/pr/IEDHmvFgn+QiQH9JXU2xziRA2q6GEIq8JkDHWcvvRq0oQHcIeR5GoCpAzESrTBGVLEBhe+UYUIsuQAIcQ55fQTBAN4mlUpU9MUCby7O1NDoyQDezTn8tNzNAoI6AkXI0NEAf5as9+TE1QOvU67q4LzZAf3c7v6ktN0AqT5cxxis4QIq3Ue4IKjlAdZHXmG0oOkAYjoB38CY7QN6391aOJTxASm5xc0QkPUDqcFtmECM+QE41iRfwIT9AyXCO2HAQQEBBac3K8Y9AQKip2yt6D0FA77TDWQmPQUD2UmjEng5CQOwvIes5jkJAlfi2WtoNQ0A6BK6rf41DQA==",
          "dtype": "f8"
         },
         "y": {
          "bdata": "KVyPwvVoUkBI4XoUrodRQEjhehSuR09AexSuR+GqUEDNzMzMzLxRQIXrUbgeFVFAmpmZmZmZU0CamZmZmflSQKRwPQrXo1RA16NwPQrHU0DiehSuR1FTQClcj8L1SFNAhetRuB5FU0BwPQrXo/BRQM3MzMzMzFFApHA9CtfTUUAK16NwPQpTQOJ6FK5HgVNAMzMzMzNTVEDNzMzMzJxUQFyPwvUo7FRAZmZmZmZ2VEBwPQrXo1BUQHE9CtejQFVAPgrXo3ANVEB7FK5H4UpVQLgehetRaFNAhetRuB7lUkAK16NwPdpTQGZmZmZmJlVACtejcD2aVUDXo3A9CsdTQDMzMzMzM1VAmpmZmZmZVUAzMzMzMwNVQFK4HoXroVVAexSuR+EKVkCkcD0K12NWQA==",
          "dtype": "f8"
         }
        },
        {
         "mode": "lines+markers",
         "name": "Modelo Float Intercept",
         "type": "scatter",
         "x": {
          "bdata": "MdPrkSr8C0CR+xtPYJsQQDy3mMNAsRNAmuT0PYIPF0BVPuhmtZoaQB+ZWlUUQx5Ax2Mt/pr/IEDHmvFgn+QiQH9JXU2xziRA2q6GEIq8JkDHWcvvRq0oQHcIeR5GoCpAzESrTBGVLEBhe+UYUIsuQAIcQ55fQTBAN4mlUpU9MUCby7O1NDoyQDezTn8tNzNAoI6AkXI0NEAf5as9+TE1QOvU67q4LzZAf3c7v6ktN0AqT5cxxis4QIq3Ue4IKjlAdZHXmG0oOkAYjoB38CY7QN6391aOJTxASm5xc0QkPUDqcFtmECM+QE41iRfwIT9AyXCO2HAQQEBBac3K8Y9AQKip2yt6D0FA77TDWQmPQUD2UmjEng5CQOwvIes5jkJAlfi2WtoNQ0A6BK6rf41DQA==",
          "dtype": "f8"
         },
         "y": {
          "bdata": "q3dHhXyxUEC8Af6YOANRQDkIVGmIVFFAdPjN8d6fUUCK8uUyFORRQAaJ5IeLIVJAAkvP3hJZUkALOI+ufotSQG4+NdmLuVJAUIDf9dnjUkDZ0x167QpTQJybo+QzL1NA1wKt6wdRU0DFatEYtXBTQEhrwbp6jlNAShFWPo6qU0AsjfkJHcVTQK6BWPVN3lNATCQkc0L2U0BWbzp+Fw1UQMRSq1fmIlRAE4j1H8U3VEBHiWtTx0tUQMIG2S/+XlRAJPIaCHlxVECprEyJRYNUQOG6XvRvlFRARj9OTgOlVED3KryICbVUQH5xRqSLxFRAmNG9zZHTVEBp5hp3I+JUQF5u6WxH8FRAfTW+6AP+VECcuDChXgtVQH3Lu9dcGFVA8xPXZAMlVUCpGY3CVjFVQA==",
          "dtype": "f8"
         }
        },
        {
         "mode": "lines+markers",
         "name": "Modelo Close-In",
         "type": "scatter",
         "x": {
          "bdata": "MdPrkSr8C0CR+xtPYJsQQDy3mMNAsRNAmuT0PYIPF0BVPuhmtZoaQB+ZWlUUQx5Ax2Mt/pr/IEDHmvFgn+QiQH9JXU2xziRA2q6GEIq8JkDHWcvvRq0oQHcIeR5GoCpAzESrTBGVLEBhe+UYUIsuQAIcQ55fQTBAN4mlUpU9MUCby7O1NDoyQDezTn8tNzNAoI6AkXI0NEAf5as9+TE1QOvU67q4LzZAf3c7v6ktN0AqT5cxxis4QIq3Ue4IKjlAdZHXmG0oOkAYjoB38CY7QN6391aOJTxASm5xc0QkPUDqcFtmECM+QE41iRfwIT9AyXCO2HAQQEBBac3K8Y9AQKip2yt6D0FA77TDWQmPQUD2UmjEng5CQOwvIes5jkJAlfi2WtoNQ0A6BK6rf41DQA==",
          "dtype": "f8"
         },
         "y": {
          "bdata": "9zXDuEBETUDid5DRk05OQIpMeCaGV09A6ALYu4AmUEAvUvmkoJVQQFAn163E+VBANCvAVjxUUUATK3zFYaZRQOzplbRo8VFAl+FKJVU2UkAn3iHl/nVSQH5zx1cYsVJASvDxRjXoUkDaFHnD0BtTQC2kVfFRTFNALLvg2g96U0C/U113VKVTQIKIDA9fzlNAFVdJIGb1U0CMDunhmBpUQDon0HggPlRACvKZ8SBgVEAIekILuoBUQJO7wNwHoFRAZqI3XSO+VEAA36nUIttUQKe9zDka91RAqSuWgBsSVUCPEF7cNixVQDI11Pd6RVVAABaXJPVdVUC+99yDsXVVQDJFWSm7jFVAmAdQORyjVUAwv5wC3rhVQMpeThUJzlVA5bddVqXiVUCZt+wQuvZVQA==",
          "dtype": "f8"
         }
        }
       ],
       "layout": {
        "template": {
         "data": {
          "bar": [
           {
            "error_x": {
             "color": "#2a3f5f"
            },
            "error_y": {
             "color": "#2a3f5f"
            },
            "marker": {
             "line": {
              "color": "#E5ECF6",
              "width": 0.5
             },
             "pattern": {
              "fillmode": "overlay",
              "size": 10,
              "solidity": 0.2
             }
            },
            "type": "bar"
           }
          ],
          "barpolar": [
           {
            "marker": {
             "line": {
              "color": "#E5ECF6",
              "width": 0.5
             },
             "pattern": {
              "fillmode": "overlay",
              "size": 10,
              "solidity": 0.2
             }
            },
            "type": "barpolar"
           }
          ],
          "carpet": [
           {
            "aaxis": {
             "endlinecolor": "#2a3f5f",
             "gridcolor": "white",
             "linecolor": "white",
             "minorgridcolor": "white",
             "startlinecolor": "#2a3f5f"
            },
            "baxis": {
             "endlinecolor": "#2a3f5f",
             "gridcolor": "white",
             "linecolor": "white",
             "minorgridcolor": "white",
             "startlinecolor": "#2a3f5f"
            },
            "type": "carpet"
           }
          ],
          "choropleth": [
           {
            "colorbar": {
             "outlinewidth": 0,
             "ticks": ""
            },
            "type": "choropleth"
           }
          ],
          "contour": [
           {
            "colorbar": {
             "outlinewidth": 0,
             "ticks": ""
            },
            "colorscale": [
             [
              0,
              "#0d0887"
             ],
             [
              0.1111111111111111,
              "#46039f"
             ],
             [
              0.2222222222222222,
              "#7201a8"
             ],
             [
              0.3333333333333333,
              "#9c179e"
             ],
             [
              0.4444444444444444,
              "#bd3786"
             ],
             [
              0.5555555555555556,
              "#d8576b"
             ],
             [
              0.6666666666666666,
              "#ed7953"
             ],
             [
              0.7777777777777778,
              "#fb9f3a"
             ],
             [
              0.8888888888888888,
              "#fdca26"
             ],
             [
              1,
              "#f0f921"
             ]
            ],
            "type": "contour"
           }
          ],
          "contourcarpet": [
           {
            "colorbar": {
             "outlinewidth": 0,
             "ticks": ""
            },
            "type": "contourcarpet"
           }
          ],
          "heatmap": [
           {
            "colorbar": {
             "outlinewidth": 0,
             "ticks": ""
            },
            "colorscale": [
             [
              0,
              "#0d0887"
             ],
             [
              0.1111111111111111,
              "#46039f"
             ],
             [
              0.2222222222222222,
              "#7201a8"
             ],
             [
              0.3333333333333333,
              "#9c179e"
             ],
             [
              0.4444444444444444,
              "#bd3786"
             ],
             [
              0.5555555555555556,
              "#d8576b"
             ],
             [
              0.6666666666666666,
              "#ed7953"
             ],
             [
              0.7777777777777778,
              "#fb9f3a"
             ],
             [
              0.8888888888888888,
              "#fdca26"
             ],
             [
              1,
              "#f0f921"
             ]
            ],
            "type": "heatmap"
           }
          ],
          "histogram": [
           {
            "marker": {
             "pattern": {
              "fillmode": "overlay",
              "size": 10,
              "solidity": 0.2
             }
            },
            "type": "histogram"
           }
          ],
          "histogram2d": [
           {
            "colorbar": {
             "outlinewidth": 0,
             "ticks": ""
            },
            "colorscale": [
             [
              0,
              "#0d0887"
             ],
             [
              0.1111111111111111,
              "#46039f"
             ],
             [
              0.2222222222222222,
              "#7201a8"
             ],
             [
              0.3333333333333333,
              "#9c179e"
             ],
             [
              0.4444444444444444,
              "#bd3786"
             ],
             [
              0.5555555555555556,
              "#d8576b"
             ],
             [
              0.6666666666666666,
              "#ed7953"
             ],
             [
              0.7777777777777778,
              "#fb9f3a"
             ],
             [
              0.8888888888888888,
              "#fdca26"
             ],
             [
              1,
              "#f0f921"
             ]
            ],
            "type": "histogram2d"
           }
          ],
          "histogram2dcontour": [
           {
            "colorbar": {
             "outlinewidth": 0,
             "ticks": ""
            },
            "colorscale": [
             [
              0,
              "#0d0887"
             ],
             [
              0.1111111111111111,
              "#46039f"
             ],
             [
              0.2222222222222222,
              "#7201a8"
             ],
             [
              0.3333333333333333,
              "#9c179e"
             ],
             [
              0.4444444444444444,
              "#bd3786"
             ],
             [
              0.5555555555555556,
              "#d8576b"
             ],
             [
              0.6666666666666666,
              "#ed7953"
             ],
             [
              0.7777777777777778,
              "#fb9f3a"
             ],
             [
              0.8888888888888888,
              "#fdca26"
             ],
             [
              1,
              "#f0f921"
             ]
            ],
            "type": "histogram2dcontour"
           }
          ],
          "mesh3d": [
           {
            "colorbar": {
             "outlinewidth": 0,
             "ticks": ""
            },
            "type": "mesh3d"
           }
          ],
          "parcoords": [
           {
            "line": {
             "colorbar": {
              "outlinewidth": 0,
              "ticks": ""
             }
            },
            "type": "parcoords"
           }
          ],
          "pie": [
           {
            "automargin": true,
            "type": "pie"
           }
          ],
          "scatter": [
           {
            "fillpattern": {
             "fillmode": "overlay",
             "size": 10,
             "solidity": 0.2
            },
            "type": "scatter"
           }
          ],
          "scatter3d": [
           {
            "line": {
             "colorbar": {
              "outlinewidth": 0,
              "ticks": ""
             }
            },
            "marker": {
             "colorbar": {
              "outlinewidth": 0,
              "ticks": ""
             }
            },
            "type": "scatter3d"
           }
          ],
          "scattercarpet": [
           {
            "marker": {
             "colorbar": {
              "outlinewidth": 0,
              "ticks": ""
             }
            },
            "type": "scattercarpet"
           }
          ],
          "scattergeo": [
           {
            "marker": {
             "colorbar": {
              "outlinewidth": 0,
              "ticks": ""
             }
            },
            "type": "scattergeo"
           }
          ],
          "scattergl": [
           {
            "marker": {
             "colorbar": {
              "outlinewidth": 0,
              "ticks": ""
             }
            },
            "type": "scattergl"
           }
          ],
          "scattermap": [
           {
            "marker": {
             "colorbar": {
              "outlinewidth": 0,
              "ticks": ""
             }
            },
            "type": "scattermap"
           }
          ],
          "scattermapbox": [
           {
            "marker": {
             "colorbar": {
              "outlinewidth": 0,
              "ticks": ""
             }
            },
            "type": "scattermapbox"
           }
          ],
          "scatterpolar": [
           {
            "marker": {
             "colorbar": {
              "outlinewidth": 0,
              "ticks": ""
             }
            },
            "type": "scatterpolar"
           }
          ],
          "scatterpolargl": [
           {
            "marker": {
             "colorbar": {
              "outlinewidth": 0,
              "ticks": ""
             }
            },
            "type": "scatterpolargl"
           }
          ],
          "scatterternary": [
           {
            "marker": {
             "colorbar": {
              "outlinewidth": 0,
              "ticks": ""
             }
            },
            "type": "scatterternary"
           }
          ],
          "surface": [
           {
            "colorbar": {
             "outlinewidth": 0,
             "ticks": ""
            },
            "colorscale": [
             [
              0,
              "#0d0887"
             ],
             [
              0.1111111111111111,
              "#46039f"
             ],
             [
              0.2222222222222222,
              "#7201a8"
             ],
             [
              0.3333333333333333,
              "#9c179e"
             ],
             [
              0.4444444444444444,
              "#bd3786"
             ],
             [
              0.5555555555555556,
              "#d8576b"
             ],
             [
              0.6666666666666666,
              "#ed7953"
             ],
             [
              0.7777777777777778,
              "#fb9f3a"
             ],
             [
              0.8888888888888888,
              "#fdca26"
             ],
             [
              1,
              "#f0f921"
             ]
            ],
            "type": "surface"
           }
          ],
          "table": [
           {
            "cells": {
             "fill": {
              "color": "#EBF0F8"
             },
             "line": {
              "color": "white"
             }
            },
            "header": {
             "fill": {
              "color": "#C8D4E3"
             },
             "line": {
              "color": "white"
             }
            },
            "type": "table"
           }
          ]
         },
         "layout": {
          "annotationdefaults": {
           "arrowcolor": "#2a3f5f",
           "arrowhead": 0,
           "arrowwidth": 1
          },
          "autotypenumbers": "strict",
          "coloraxis": {
           "colorbar": {
            "outlinewidth": 0,
            "ticks": ""
           }
          },
          "colorscale": {
           "diverging": [
            [
             0,
             "#8e0152"
            ],
            [
             0.1,
             "#c51b7d"
            ],
            [
             0.2,
             "#de77ae"
            ],
            [
             0.3,
             "#f1b6da"
            ],
            [
             0.4,
             "#fde0ef"
            ],
            [
             0.5,
             "#f7f7f7"
            ],
            [
             0.6,
             "#e6f5d0"
            ],
            [
             0.7,
             "#b8e186"
            ],
            [
             0.8,
             "#7fbc41"
            ],
            [
             0.9,
             "#4d9221"
            ],
            [
             1,
             "#276419"
            ]
           ],
           "sequential": [
            [
             0,
             "#0d0887"
            ],
            [
             0.1111111111111111,
             "#46039f"
            ],
            [
             0.2222222222222222,
             "#7201a8"
            ],
            [
             0.3333333333333333,
             "#9c179e"
            ],
            [
             0.4444444444444444,
             "#bd3786"
            ],
            [
             0.5555555555555556,
             "#d8576b"
            ],
            [
             0.6666666666666666,
             "#ed7953"
            ],
            [
             0.7777777777777778,
             "#fb9f3a"
            ],
            [
             0.8888888888888888,
             "#fdca26"
            ],
            [
             1,
             "#f0f921"
            ]
           ],
           "sequentialminus": [
            [
             0,
             "#0d0887"
            ],
            [
             0.1111111111111111,
             "#46039f"
            ],
            [
             0.2222222222222222,
             "#7201a8"
            ],
            [
             0.3333333333333333,
             "#9c179e"
            ],
            [
             0.4444444444444444,
             "#bd3786"
            ],
            [
             0.5555555555555556,
             "#d8576b"
            ],
            [
             0.6666666666666666,
             "#ed7953"
            ],
            [
             0.7777777777777778,
             "#fb9f3a"
            ],
            [
             0.8888888888888888,
             "#fdca26"
            ],
            [
             1,
             "#f0f921"
            ]
           ]
          },
          "colorway": [
           "#636efa",
           "#EF553B",
           "#00cc96",
           "#ab63fa",
           "#FFA15A",
           "#19d3f3",
           "#FF6692",
           "#B6E880",
           "#FF97FF",
           "#FECB52"
          ],
          "font": {
           "color": "#2a3f5f"
          },
          "geo": {
           "bgcolor": "white",
           "lakecolor": "white",
           "landcolor": "#E5ECF6",
           "showlakes": true,
           "showland": true,
           "subunitcolor": "white"
          },
          "hoverlabel": {
           "align": "left"
          },
          "hovermode": "closest",
          "mapbox": {
           "style": "light"
          },
          "paper_bgcolor": "white",
          "plot_bgcolor": "#E5ECF6",
          "polar": {
           "angularaxis": {
            "gridcolor": "white",
            "linecolor": "white",
            "ticks": ""
           },
           "bgcolor": "#E5ECF6",
           "radialaxis": {
            "gridcolor": "white",
            "linecolor": "white",
            "ticks": ""
           }
          },
          "scene": {
           "xaxis": {
            "backgroundcolor": "#E5ECF6",
            "gridcolor": "white",
            "gridwidth": 2,
            "linecolor": "white",
            "showbackground": true,
            "ticks": "",
            "zerolinecolor": "white"
           },
           "yaxis": {
            "backgroundcolor": "#E5ECF6",
            "gridcolor": "white",
            "gridwidth": 2,
            "linecolor": "white",
            "showbackground": true,
            "ticks": "",
            "zerolinecolor": "white"
           },
           "zaxis": {
            "backgroundcolor": "#E5ECF6",
            "gridcolor": "white",
            "gridwidth": 2,
            "linecolor": "white",
            "showbackground": true,
            "ticks": "",
            "zerolinecolor": "white"
           }
          },
          "shapedefaults": {
           "line": {
            "color": "#2a3f5f"
           }
          },
          "ternary": {
           "aaxis": {
            "gridcolor": "white",
            "linecolor": "white",
            "ticks": ""
           },
           "baxis": {
            "gridcolor": "white",
            "linecolor": "white",
            "ticks": ""
           },
           "bgcolor": "#E5ECF6",
           "caxis": {
            "gridcolor": "white",
            "linecolor": "white",
            "ticks": ""
           }
          },
          "title": {
           "x": 0.05
          },
          "xaxis": {
           "automargin": true,
           "gridcolor": "white",
           "linecolor": "white",
           "ticks": "",
           "title": {
            "standoff": 15
           },
           "zerolinecolor": "white",
           "zerolinewidth": 2
          },
          "yaxis": {
           "automargin": true,
           "gridcolor": "white",
           "linecolor": "white",
           "ticks": "",
           "title": {
            "standoff": 15
           },
           "zerolinecolor": "white",
           "zerolinewidth": 2
          }
         }
        },
        "title": {
         "text": "Modelos de Path Loss vs. Medido (1º Andar)"
        },
        "xaxis": {
         "title": {
          "text": "Distância (m)"
         }
        },
        "yaxis": {
         "title": {
          "text": "Path Loss (dB)"
         }
        }
       }
      }
     },
     "metadata": {},
     "output_type": "display_data"
    }
   ],
   "source": [
    "# Análise para o 1º Andar\n",
    "print(\"\\n--- Resultados para o 1º Andar ---\")\n",
    "fi_1andar, _, _ = float_intercept(df_real_1andar[['distancia', 'Cp', 'pl']])\n",
    "ci_1andar, _ = close_in(df_real_1andar[['distancia', 'Cp', 'pl']])\n",
    "\n",
    "fig_modelos_1andar = go.Figure()\n",
    "fig_modelos_1andar.add_trace(go.Scatter(x=df_real_1andar.distancia, y=df_real_1andar['pl'], name='Dados Medidos', mode='markers'))\n",
    "fig_modelos_1andar.add_trace(go.Scatter(x=df_real_1andar.distancia, y=fi_1andar, name='Modelo Float Intercept', mode='lines+markers'))\n",
    "fig_modelos_1andar.add_trace(go.Scatter(x=df_real_1andar.distancia, y=ci_1andar, name='Modelo Close-In', mode='lines+markers'))\n",
    "fig_modelos_1andar.update_layout(title='Modelos de Path Loss vs. Medido (1º Andar)', xaxis_title='Distância (m)', yaxis_title='Path Loss (dB)')\n",
    "fig_modelos_1andar.show()"
   ]
  },
  {
   "cell_type": "code",
   "execution_count": 90,
   "id": "8553e589",
   "metadata": {},
   "outputs": [
    {
     "name": "stdout",
     "output_type": "stream",
     "text": [
      "\n",
      ">>> Comparação com Dados Simulados (Full3D) <<<\n",
      "\n"
     ]
    },
    {
     "name": "stdout",
     "output_type": "stream",
     "text": [
      "Arquivo 'sim_full3d_terreo.csv' foi salvo com sucesso!\n",
      "Arquivo 'sim_full3d_1andar.csv' foi salvo com sucesso!\n",
      "RMSE (Medido vs. Simulado Full3D) - Térreo: 3.6741\n",
      "RMSE (Medido vs. Simulado Full3D) - 1º Andar: 6.0592\n",
      "\n"
     ]
    }
   ],
   "source": [
    "# --- Seção 4: Comparação com Simulação Full3D ---\n",
    "print(\"\\n>>> Comparação com Dados Simulados (Full3D) <<<\\n\")\n",
    "\n",
    "# Processa e carrega dados simulados do térreo\n",
    "txt_to_csv('full3d 7t2r/ProjetoLCT-TCC.power.t001_01.r003.p2m', 'sim_full3d_terreo.csv', is_full3d=True) # <-- SUBSTITUA O CAMINHO\n",
    "df_sim_terreo = pd.read_csv('sim_full3d_terreo.csv')\n",
    "df_sim_terreo['Distance (m)'] = df_sim_terreo['Distance (m)'] + 1\n",
    "df_sim_terreo['pl'] = 20 - df_sim_terreo['Power (dBm)']\n",
    "\n",
    "# Processa e carrega dados simulados do 1º andar\n",
    "txt_to_csv('full3d 7t2r/ProjetoLCT-TCC.power.t001_01.r004.p2m', 'sim_full3d_1andar.csv', is_full3d=True) # <-- SUBSTITUA O CAMINHO\n",
    "df_sim_1andar = pd.read_csv('sim_full3d_1andar.csv')\n",
    "df_sim_1andar['pl'] = 20 - df_sim_1andar['Power (dBm)']\n",
    "# ATENÇÃO: A distância da simulação está sendo substituída pela distância medida para comparação direta.\n",
    "\n",
    "\n",
    "# Calcula o RMSE entre o medido e o simulado\n",
    "rmse_terreo = rmse(df_real_terreo['pl'], df_sim_terreo['pl'])\n",
    "rmse_1andar = rmse(df_real_1andar['pl'], df_sim_1andar['pl'])\n",
    "print(f\"RMSE (Medido vs. Simulado Full3D) - Térreo: {rmse_terreo:.4f}\")\n",
    "print(f\"RMSE (Medido vs. Simulado Full3D) - 1º Andar: {rmse_1andar:.4f}\\n\")"
   ]
  },
  {
   "cell_type": "code",
   "execution_count": 92,
   "id": "22e6c393",
   "metadata": {},
   "outputs": [
    {
     "data": {
      "image/png": "[encoded data removed]",
      "text/plain": [
       "<Figure size 1000x600 with 1 Axes>"
      ]
     },
     "metadata": {},
     "output_type": "display_data"
    }
   ],
   "source": [
    "# Gráfico de comparação - Térreo\n",
    "plt.figure(figsize=(10, 6))\n",
    "plt.scatter(df_real_terreo['distancia'], df_real_terreo['pl'], marker='*', color='red', label='PL Medido')\n",
    "plt.plot(df_sim_terreo['Distance (m)'], df_sim_terreo['pl'], marker='o', linestyle='-', label='PL Simulado (Full3D)')\n",
    "plt.title(f'Path Loss Térreo: Medido vs. Simulado (RMSE = {rmse_terreo:.4f})')\n",
    "plt.xlabel('Distância (m)')\n",
    "plt.ylabel('Path Loss (dB)')\n",
    "plt.legend()\n",
    "plt.grid(True)\n",
    "plt.show()"
   ]
  },
  {
   "cell_type": "code",
   "execution_count": 93,
   "id": "d8bb28fc",
   "metadata": {},
   "outputs": [
    {
     "data": {
      "image/png": "[encoded data removed]",
      "text/plain": [
       "<Figure size 1000x600 with 1 Axes>"
      ]
     },
     "metadata": {},
     "output_type": "display_data"
    }
   ],
   "source": [
    "# Gráfico de comparação - 1º Andar\n",
    "plt.figure(figsize=(10, 6))\n",
    "plt.scatter(df_real_1andar['distancia'], df_real_1andar['pl'], marker='*', color='red', label='PL Medido')\n",
    "plt.plot(df_sim_1andar['Distance (m)'], df_sim_1andar['pl'], marker='o', linestyle='-', label='PL Simulado (Full3D)')\n",
    "plt.title(f'Path Loss 1º Andar: Medido vs. Simulado (RMSE = {rmse_1andar:.4f})')\n",
    "plt.xlabel('Distância (m)')\n",
    "plt.ylabel('Path Loss (dB)')\n",
    "plt.legend()\n",
    "plt.grid(True)\n",
    "plt.show()"
   ]
  }
 ],
 "metadata": {
  "kernelspec": {
   "display_name": ".venv (3.13.6)",
   "language": "python",
   "name": "python3"
  },
  "language_info": {
   "codemirror_mode": {
    "name": "ipython",
    "version": 3
   },
   "file_extension": ".py",
   "mimetype": "text/x-python",
   "name": "python",
   "nbconvert_exporter": "python",
   "pygments_lexer": "ipython3",
   "version": "3.13.6"
  }
 },
 "nbformat": 4,
 "nbformat_minor": 5
}
